{
 "cells": [
  {
   "cell_type": "markdown",
   "metadata": {},
   "source": [
    "# CSC461 – Assignment1 – Regular Expressions\n",
    "## 30-09-2023\n",
    "## **Muhammad Umar Asif**\n",
    "## **FA21-BSE-075**"
   ]
  },
  {
   "cell_type": "markdown",
   "metadata": {},
   "source": [
    "This assignment is about use of regular expression. In this notebook text data from a txt file is extracted and different regular expressions applied on it."
   ]
  },
  {
   "cell_type": "code",
   "execution_count": 71,
   "metadata": {},
   "outputs": [],
   "source": [
    "# import library\n",
    "import re"
   ]
  },
  {
   "cell_type": "code",
   "execution_count": 72,
   "metadata": {},
   "outputs": [],
   "source": [
    "# read text data from a txt file\n",
    "file = open('example-text.txt', 'r')\n",
    "text = file.read()"
   ]
  },
  {
   "cell_type": "code",
   "execution_count": 20,
   "metadata": {},
   "outputs": [
    {
     "name": "stdout",
     "output_type": "stream",
     "text": [
      "The outlook wasn't brilliant for the Mudville nine that day; \n",
      "The score stood four to two, with but one inning more to play,\n",
      "And then when Cooney died at first, and Barrows did the same,\n",
      "A pall-like silence fell upon the patrons of the game. \n",
      "\n",
      "A straggling few got up to go in deep despair. The rest\n",
      "Clung to that hope which springs eternal in the human breast;\n",
      "They thought, \"If only Casey could but get a whack at that--\n",
      "We'd put up even money now, with Casey at the bat.\" \n",
      "\n",
      "But Flynn preceded Casey, as did also Jimmy Blake,\n",
      "And the former was a lulu, while the latter was a cake;\n",
      "So upon that stricken multitude grim melancholy sat,\n",
      "For there seemed but little chance of Casey getting to the bat.\n",
      "\n",
      "But Flynn let drive a single, to the wonderment of all,\n",
      "And Blake, the much despised, tore the cover off the ball;\n",
      "And when the dust had lifted, and men saw what had occurred,\n",
      "There was Jimmy safe at second and Flynn a-hugging third. \n",
      "\n",
      "Then from five thousand throats and more there rose a lusty yell;\n",
      "It rumbled through the valley, it rattled in the dell;\n",
      "It pounded on the mountain and recoiled upon the flat,\n",
      "For Casey, mighty Casey, was advancing to the bat. \n",
      "\n",
      "There was ease in Casey's manner as he stepped into his place;\n",
      "There was pride in Casey's bearing and a smile lit Casey's face.\n",
      "And when, responding to the cheers, he lightly doffed his hat,\n",
      "No stranger in the crowd could doubt 'twas Casey at the bat. \n",
      "\n",
      "Ten thousand eyes were on him as he rubbed his hands with dirt;\n",
      "Five thousand tongues applauded when he wiped them on his shirt;\n",
      "Then while the writhing pitcher ground the ball into his hip,\n",
      "Defiance flashed in Casey's eye, a sneer curled Casey's lip. \n",
      "\n",
      "And now the leather-covered sphere came hurtling through the air,\n",
      "And Casey stood a-watching it in haughty grandeur there.\n",
      "Close by the sturdy batsman the ball unheeded sped--\n",
      "\"That ain't my style,\" said Casey. \"Strike one!\" the umpire said. \n",
      "\n",
      "From the benches, black with people, there went up a muffled roar,\n",
      "Like the beating of the storm-waves on a stern and distant shore;\n",
      "\"Kill him! Kill the umpire!\" shouted some one on the stand;\n",
      "And it's likely they'd have killed him had not Casey raised his hand. \n",
      "\n",
      "With a smile of Christian charity great Casey's visage shone;\n",
      "He stilled the rising tumult; he bade the game go on;\n",
      "He signaled to the pitcher, and once more the dun sphere flew;\n",
      "But Casey still ignored it, and the umpire said, \"Strike two!\" \n",
      "\n",
      "\"Fraud!\" cried the maddened thousands, and echo answered \"Fraud!\"\n",
      "But one scornful look from Casey and the audience was awed.\n",
      "They saw his face grow stern and cold, they saw his muscles strain,\n",
      "And they knew that Casey wouldn't let that ball go by again. \n",
      "\n",
      "The sneer has fled from Casey's lip, his teeth are clenched in hate;\n",
      "He pounds with cruel violence his bat upon the plate.\n",
      "And now the pitcher holds the ball, and now he lets it go.\n",
      "And now the air is shattered by the force of Casey's blow. \n",
      "\n",
      "Oh, somewhere in this favored land the sun is shining bright;\n",
      "The band is playing somewhere, and somewhere hearts are light,\n",
      "And somewhere men are laughing, and little children shout;\n",
      "But there is no joy in Mudville--great Casey has struck out\n",
      "\n"
     ]
    }
   ],
   "source": [
    "print(text)"
   ]
  },
  {
   "cell_type": "markdown",
   "metadata": {},
   "source": [
    "#### 1. Extract list of all words."
   ]
  },
  {
   "cell_type": "code",
   "execution_count": 30,
   "metadata": {},
   "outputs": [
    {
     "name": "stdout",
     "output_type": "stream",
     "text": [
      "['The', 'outlook', 'wasn', 't', 'brilliant', 'for', 'the', 'Mudville', 'nine', 'that', 'day', 'The', 'score', 'stood', 'four', 'to', 'two', 'with', 'but', 'one', 'inning', 'more', 'to', 'play', 'And', 'then', 'when', 'Cooney', 'died', 'at', 'first', 'and', 'Barrows', 'did', 'the', 'same', 'A', 'pall', 'like', 'silence', 'fell', 'upon', 'the', 'patrons', 'of', 'the', 'game', 'A', 'straggling', 'few', 'got', 'up', 'to', 'go', 'in', 'deep', 'despair', 'The', 'rest', 'Clung', 'to', 'that', 'hope', 'which', 'springs', 'eternal', 'in', 'the', 'human', 'breast', 'They', 'thought', 'If', 'only', 'Casey', 'could', 'but', 'get', 'a', 'whack', 'at', 'that', 'We', 'd', 'put', 'up', 'even', 'money', 'now', 'with', 'Casey', 'at', 'the', 'bat', 'But', 'Flynn', 'preceded', 'Casey', 'as', 'did', 'also', 'Jimmy', 'Blake', 'And', 'the', 'former', 'was', 'a', 'lulu', 'while', 'the', 'latter', 'was', 'a', 'cake', 'So', 'upon', 'that', 'stricken', 'multitude', 'grim', 'melancholy', 'sat', 'For', 'there', 'seemed', 'but', 'little', 'chance', 'of', 'Casey', 'getting', 'to', 'the', 'bat', 'But', 'Flynn', 'let', 'drive', 'a', 'single', 'to', 'the', 'wonderment', 'of', 'all', 'And', 'Blake', 'the', 'much', 'despised', 'tore', 'the', 'cover', 'off', 'the', 'ball', 'And', 'when', 'the', 'dust', 'had', 'lifted', 'and', 'men', 'saw', 'what', 'had', 'occurred', 'There', 'was', 'Jimmy', 'safe', 'at', 'second', 'and', 'Flynn', 'a', 'hugging', 'third', 'Then', 'from', 'five', 'thousand', 'throats', 'and', 'more', 'there', 'rose', 'a', 'lusty', 'yell', 'It', 'rumbled', 'through', 'the', 'valley', 'it', 'rattled', 'in', 'the', 'dell', 'It', 'pounded', 'on', 'the', 'mountain', 'and', 'recoiled', 'upon', 'the', 'flat', 'For', 'Casey', 'mighty', 'Casey', 'was', 'advancing', 'to', 'the', 'bat', 'There', 'was', 'ease', 'in', 'Casey', 's', 'manner', 'as', 'he', 'stepped', 'into', 'his', 'place', 'There', 'was', 'pride', 'in', 'Casey', 's', 'bearing', 'and', 'a', 'smile', 'lit', 'Casey', 's', 'face', 'And', 'when', 'responding', 'to', 'the', 'cheers', 'he', 'lightly', 'doffed', 'his', 'hat', 'No', 'stranger', 'in', 'the', 'crowd', 'could', 'doubt', 'twas', 'Casey', 'at', 'the', 'bat', 'Ten', 'thousand', 'eyes', 'were', 'on', 'him', 'as', 'he', 'rubbed', 'his', 'hands', 'with', 'dirt', 'Five', 'thousand', 'tongues', 'applauded', 'when', 'he', 'wiped', 'them', 'on', 'his', 'shirt', 'Then', 'while', 'the', 'writhing', 'pitcher', 'ground', 'the', 'ball', 'into', 'his', 'hip', 'Defiance', 'flashed', 'in', 'Casey', 's', 'eye', 'a', 'sneer', 'curled', 'Casey', 's', 'lip', 'And', 'now', 'the', 'leather', 'covered', 'sphere', 'came', 'hurtling', 'through', 'the', 'air', 'And', 'Casey', 'stood', 'a', 'watching', 'it', 'in', 'haughty', 'grandeur', 'there', 'Close', 'by', 'the', 'sturdy', 'batsman', 'the', 'ball', 'unheeded', 'sped', 'That', 'ain', 't', 'my', 'style', 'said', 'Casey', 'Strike', 'one', 'the', 'umpire', 'said', 'From', 'the', 'benches', 'black', 'with', 'people', 'there', 'went', 'up', 'a', 'muffled', 'roar', 'Like', 'the', 'beating', 'of', 'the', 'storm', 'waves', 'on', 'a', 'stern', 'and', 'distant', 'shore', 'Kill', 'him', 'Kill', 'the', 'umpire', 'shouted', 'some', 'one', 'on', 'the', 'stand', 'And', 'it', 's', 'likely', 'they', 'd', 'have', 'killed', 'him', 'had', 'not', 'Casey', 'raised', 'his', 'hand', 'With', 'a', 'smile', 'of', 'Christian', 'charity', 'great', 'Casey', 's', 'visage', 'shone', 'He', 'stilled', 'the', 'rising', 'tumult', 'he', 'bade', 'the', 'game', 'go', 'on', 'He', 'signaled', 'to', 'the', 'pitcher', 'and', 'once', 'more', 'the', 'dun', 'sphere', 'flew', 'But', 'Casey', 'still', 'ignored', 'it', 'and', 'the', 'umpire', 'said', 'Strike', 'two', 'Fraud', 'cried', 'the', 'maddened', 'thousands', 'and', 'echo', 'answered', 'Fraud', 'But', 'one', 'scornful', 'look', 'from', 'Casey', 'and', 'the', 'audience', 'was', 'awed', 'They', 'saw', 'his', 'face', 'grow', 'stern', 'and', 'cold', 'they', 'saw', 'his', 'muscles', 'strain', 'And', 'they', 'knew', 'that', 'Casey', 'wouldn', 't', 'let', 'that', 'ball', 'go', 'by', 'again', 'The', 'sneer', 'has', 'fled', 'from', 'Casey', 's', 'lip', 'his', 'teeth', 'are', 'clenched', 'in', 'hate', 'He', 'pounds', 'with', 'cruel', 'violence', 'his', 'bat', 'upon', 'the', 'plate', 'And', 'now', 'the', 'pitcher', 'holds', 'the', 'ball', 'and', 'now', 'he', 'lets', 'it', 'go', 'And', 'now', 'the', 'air', 'is', 'shattered', 'by', 'the', 'force', 'of', 'Casey', 's', 'blow', 'Oh', 'somewhere', 'in', 'this', 'favored', 'land', 'the', 'sun', 'is', 'shining', 'bright', 'The', 'band', 'is', 'playing', 'somewhere', 'and', 'somewhere', 'hearts', 'are', 'light', 'And', 'somewhere', 'men', 'are', 'laughing', 'and', 'little', 'children', 'shout', 'But', 'there', 'is', 'no', 'joy', 'in', 'Mudville', 'great', 'Casey', 'has', 'struck', 'out']\n"
     ]
    }
   ],
   "source": [
    "pattern = r'\\b\\w+\\b'\n",
    "words = re.findall(pattern, text)\n",
    "print(words)"
   ]
  },
  {
   "cell_type": "markdown",
   "metadata": {},
   "source": [
    "#### 2. Extract list of all words starting with a capital letter."
   ]
  },
  {
   "cell_type": "code",
   "execution_count": 36,
   "metadata": {},
   "outputs": [
    {
     "name": "stdout",
     "output_type": "stream",
     "text": [
      "['The', 'Mudville', 'The', 'And', 'Cooney', 'Barrows', 'A', 'A', 'The', 'Clung', 'They', 'If', 'Casey', 'We', 'Casey', 'But', 'Flynn', 'Casey', 'Jimmy', 'Blake', 'And', 'So', 'For', 'Casey', 'But', 'Flynn', 'And', 'Blake', 'And', 'There', 'Jimmy', 'Flynn', 'Then', 'It', 'It', 'For', 'Casey', 'Casey', 'There', 'Casey', 'There', 'Casey', 'Casey', 'And', 'No', 'Casey', 'Ten', 'Five', 'Then', 'Defiance', 'Casey', 'Casey', 'And', 'And', 'Casey', 'Close', 'That', 'Casey', 'Strike', 'From', 'Like', 'Kill', 'Kill', 'And', 'Casey', 'With', 'Christian', 'Casey', 'He', 'He', 'But', 'Casey', 'Strike', 'Fraud', 'Fraud', 'But', 'Casey', 'They', 'And', 'Casey', 'The', 'Casey', 'He', 'And', 'And', 'Casey', 'Oh', 'The', 'And', 'But', 'Mudville', 'Casey']\n"
     ]
    }
   ],
   "source": [
    "pattern = r'\\b[A-Z]\\w*\\b'\n",
    "capitalwords = re.findall(pattern, text)\n",
    "print(capitalwords)"
   ]
  },
  {
   "cell_type": "markdown",
   "metadata": {},
   "source": [
    "#### 3. Extract list of all words of length 5."
   ]
  },
  {
   "cell_type": "code",
   "execution_count": 38,
   "metadata": {},
   "outputs": [
    {
     "name": "stdout",
     "output_type": "stream",
     "text": [
      "['score', 'stood', 'first', 'Clung', 'which', 'human', 'Casey', 'could', 'whack', 'money', 'Casey', 'Flynn', 'Casey', 'Jimmy', 'Blake', 'while', 'there', 'Casey', 'Flynn', 'drive', 'Blake', 'cover', 'There', 'Jimmy', 'Flynn', 'third', 'there', 'lusty', 'Casey', 'Casey', 'There', 'Casey', 'place', 'There', 'pride', 'Casey', 'smile', 'Casey', 'crowd', 'could', 'doubt', 'Casey', 'hands', 'wiped', 'shirt', 'while', 'Casey', 'sneer', 'Casey', 'Casey', 'stood', 'there', 'Close', 'style', 'Casey', 'black', 'there', 'storm', 'waves', 'stern', 'shore', 'stand', 'Casey', 'smile', 'great', 'Casey', 'shone', 'Casey', 'still', 'Fraud', 'cried', 'Fraud', 'Casey', 'stern', 'Casey', 'again', 'sneer', 'Casey', 'teeth', 'cruel', 'plate', 'holds', 'force', 'Casey', 'light', 'shout', 'there', 'great', 'Casey']\n"
     ]
    }
   ],
   "source": [
    "pattern = r'\\b\\w{5}\\b'\n",
    "words = re.findall(pattern, text)\n",
    "print(words)"
   ]
  },
  {
   "cell_type": "markdown",
   "metadata": {},
   "source": [
    "#### 4. Extract list of all words inside double quotes."
   ]
  },
  {
   "cell_type": "code",
   "execution_count": 44,
   "metadata": {},
   "outputs": [
    {
     "name": "stdout",
     "output_type": "stream",
     "text": [
      "[\"If only Casey could but get a whack at that--\\nWe'd put up even money now, with Casey at the bat.\", \"That ain't my style,\", 'Strike one!', 'Kill him! Kill the umpire!', 'Strike two!', 'Fraud!', 'Fraud!']\n"
     ]
    }
   ],
   "source": [
    "pattern = r'\"([^\"]+)\"'\n",
    "words = re.findall(pattern, text)\n",
    "print(words)"
   ]
  },
  {
   "cell_type": "markdown",
   "metadata": {},
   "source": [
    "#### 5. Extract list of all vowels."
   ]
  },
  {
   "cell_type": "code",
   "execution_count": 45,
   "metadata": {},
   "outputs": [
    {
     "name": "stdout",
     "output_type": "stream",
     "text": [
      "['e', 'o', 'u', 'o', 'o', 'a', 'i', 'i', 'a', 'o', 'e', 'u', 'i', 'e', 'i', 'e', 'a', 'a', 'e', 'o', 'e', 'o', 'o', 'o', 'u', 'o', 'o', 'i', 'u', 'o', 'e', 'i', 'i', 'o', 'e', 'o', 'a', 'A', 'e', 'e', 'o', 'o', 'e', 'i', 'e', 'a', 'i', 'a', 'a', 'o', 'i', 'e', 'a', 'e', 'A', 'a', 'i', 'e', 'i', 'e', 'e', 'e', 'u', 'o', 'e', 'a', 'o', 'o', 'e', 'a', 'e', 'A', 'a', 'i', 'e', 'o', 'u', 'o', 'o', 'i', 'e', 'e', 'e', 'a', 'i', 'e', 'e', 'u', 'o', 'a', 'o', 'e', 'i', 'i', 'e', 'e', 'a', 'i', 'e', 'u', 'a', 'e', 'a', 'e', 'o', 'u', 'I', 'o', 'a', 'e', 'o', 'u', 'u', 'e', 'a', 'a', 'a', 'a', 'e', 'u', 'u', 'e', 'e', 'o', 'e', 'o', 'i', 'a', 'e', 'a', 'e', 'a', 'u', 'e', 'e', 'e', 'a', 'e', 'a', 'i', 'a', 'o', 'i', 'a', 'e', 'A', 'e', 'o', 'e', 'a', 'a', 'u', 'u', 'i', 'e', 'e', 'a', 'e', 'a', 'a', 'a', 'e', 'o', 'u', 'o', 'a', 'i', 'e', 'u', 'i', 'u', 'e', 'i', 'e', 'a', 'o', 'a', 'o', 'e', 'e', 'e', 'e', 'e', 'u', 'i', 'e', 'a', 'e', 'o', 'a', 'e', 'e', 'i', 'o', 'e', 'a', 'u', 'e', 'i', 'e', 'a', 'i', 'e', 'o', 'e', 'o', 'e', 'e', 'o', 'a', 'A', 'a', 'e', 'e', 'u', 'e', 'i', 'e', 'o', 'e', 'e', 'o', 'e', 'o', 'e', 'a', 'A', 'e', 'e', 'u', 'a', 'i', 'e', 'a', 'e', 'a', 'a', 'a', 'o', 'u', 'e', 'e', 'e', 'a', 'i', 'a', 'e', 'a', 'e', 'o', 'a', 'a', 'u', 'i', 'i', 'e', 'o', 'i', 'e', 'o', 'u', 'a', 'o', 'a', 'a', 'o', 'e', 'e', 'e', 'o', 'e', 'a', 'u', 'e', 'I', 'u', 'e', 'o', 'u', 'e', 'a', 'e', 'i', 'a', 'e', 'i', 'e', 'e', 'I', 'o', 'u', 'e', 'o', 'e', 'o', 'u', 'a', 'i', 'a', 'e', 'o', 'i', 'e', 'u', 'o', 'e', 'a', 'o', 'a', 'e', 'i', 'a', 'e', 'a', 'a', 'a', 'i', 'o', 'e', 'a', 'e', 'e', 'a', 'e', 'a', 'e', 'i', 'a', 'e', 'a', 'e', 'a', 'e', 'e', 'e', 'i', 'o', 'i', 'a', 'e', 'e', 'e', 'a', 'i', 'e', 'i', 'a', 'e', 'e', 'a', 'i', 'a', 'a', 'i', 'e', 'i', 'a', 'e', 'a', 'e', 'A', 'e', 'e', 'o', 'i', 'o', 'e', 'e', 'e', 'e', 'i', 'o', 'e', 'i', 'a', 'o', 'a', 'e', 'i', 'e', 'o', 'o', 'u', 'o', 'u', 'a', 'a', 'e', 'a', 'e', 'a', 'e', 'o', 'u', 'a', 'e', 'e', 'e', 'e', 'o', 'i', 'a', 'e', 'u', 'e', 'i', 'a', 'i', 'i', 'i', 'e', 'o', 'u', 'a', 'o', 'u', 'e', 'a', 'a', 'u', 'e', 'e', 'e', 'i', 'e', 'e', 'o', 'i', 'i', 'e', 'i', 'e', 'e', 'i', 'i', 'i', 'e', 'o', 'u', 'e', 'a', 'i', 'o', 'i', 'i', 'e', 'i', 'a', 'e', 'a', 'e', 'i', 'a', 'e', 'e', 'e', 'a', 'e', 'e', 'u', 'e', 'a', 'e', 'i', 'A', 'o', 'e', 'e', 'a', 'e', 'o', 'e', 'e', 'e', 'e', 'a', 'e', 'u', 'i', 'o', 'u', 'e', 'a', 'i', 'A', 'a', 'e', 'o', 'o', 'a', 'a', 'i', 'i', 'i', 'a', 'u', 'a', 'e', 'u', 'e', 'e', 'o', 'e', 'e', 'u', 'a', 'a', 'e', 'a', 'u', 'e', 'e', 'e', 'e', 'a', 'a', 'i', 'e', 'a', 'i', 'a', 'e', 'i', 'e', 'o', 'e', 'e', 'u', 'i', 'e', 'a', 'i', 'o', 'e', 'e', 'e', 'a', 'i', 'e', 'o', 'e', 'e', 'e', 'e', 'u', 'a', 'u', 'e', 'o', 'a', 'i', 'e', 'e', 'e', 'a', 'i', 'o', 'e', 'o', 'a', 'e', 'o', 'a', 'e', 'a', 'i', 'a', 'o', 'e', 'i', 'i', 'i', 'e', 'u', 'i', 'e', 'o', 'u', 'e', 'o', 'e', 'o', 'e', 'o', 'e', 'a', 'A', 'i', 'i', 'e', 'e', 'a', 'e', 'i', 'e', 'i', 'a', 'o', 'a', 'e', 'a', 'i', 'e', 'i', 'a', 'i', 'a', 'i', 'e', 'o', 'i', 'i', 'a', 'a', 'i', 'e', 'a', 'a', 'e', 'i', 'a', 'e', 'o', 'e', 'e', 'i', 'e', 'e', 'i', 'i', 'u', 'u', 'e', 'a', 'e', 'e', 'a', 'e', 'o', 'o', 'e', 'i', 'a', 'e', 'o', 'e', 'i', 'e', 'a', 'o', 'e', 'o', 'e', 'e', 'u', 'e', 'e', 'e', 'u', 'a', 'e', 'i', 'i', 'o', 'e', 'i', 'a', 'e', 'u', 'i', 'e', 'a', 'i', 'i', 'e', 'o', 'a', 'u', 'i', 'e', 'e', 'a', 'e', 'e', 'o', 'u', 'a', 'a', 'e', 'o', 'a', 'e', 'e', 'a', 'u', 'u', 'o', 'e', 'o', 'u', 'o', 'o', 'o', 'a', 'e', 'a', 'e', 'a', 'u', 'i', 'e', 'e', 'a', 'a', 'e', 'e', 'a', 'i', 'a', 'e', 'o', 'e', 'a', 'o', 'e', 'a', 'i', 'u', 'e', 'a', 'i', 'A', 'e', 'e', 'a', 'a', 'e', 'o', 'u', 'e', 'a', 'a', 'o', 'a', 'a', 'i', 'e', 'e', 'e', 'a', 'e', 'o', 'a', 'e', 'i', 'i', 'e', 'e', 'a', 'e', 'e', 'e', 'i', 'a', 'e', 'e', 'o', 'u', 'i', 'u', 'e', 'i', 'o', 'e', 'e', 'i', 'a', 'u', 'o', 'e', 'a', 'e', 'A', 'o', 'e', 'i', 'e', 'o', 'e', 'a', 'a', 'o', 'e', 'e', 'i', 'o', 'A', 'o', 'e', 'a', 'i', 'i', 'a', 'e', 'e', 'e', 'o', 'e', 'o', 'a', 'e', 'o', 'O', 'o', 'e', 'e', 'e', 'i', 'i', 'a', 'o', 'e', 'a', 'e', 'u', 'i', 'i', 'i', 'i', 'e', 'a', 'i', 'a', 'i', 'o', 'e', 'e', 'e', 'a', 'o', 'e', 'e', 'e', 'e', 'a', 'a', 'e', 'i', 'A', 'o', 'e', 'e', 'e', 'e', 'a', 'e', 'a', 'u', 'i', 'a', 'i', 'e', 'i', 'e', 'o', 'u', 'u', 'e', 'e', 'i', 'o', 'o', 'i', 'u', 'i', 'e', 'e', 'a', 'a', 'e', 'a', 'u', 'o', 'u']\n"
     ]
    }
   ],
   "source": [
    "pattern = r'[AEIOUaeiou]'\n",
    "vowels = re.findall(pattern, text)\n",
    "print(vowels)"
   ]
  },
  {
   "cell_type": "markdown",
   "metadata": {},
   "source": [
    "#### 6. Extract list of 3 letter words ending with letter ‘e’."
   ]
  },
  {
   "cell_type": "code",
   "execution_count": 58,
   "metadata": {},
   "outputs": [
    {
     "name": "stdout",
     "output_type": "stream",
     "text": [
      "['The', 'the', 'The', 'one', 'the', 'the', 'the', 'The', 'the', 'the', 'the', 'the', 'the', 'the', 'the', 'the', 'the', 'the', 'the', 'the', 'the', 'the', 'the', 'the', 'the', 'the', 'the', 'the', 'eye', 'the', 'the', 'the', 'the', 'one', 'the', 'the', 'the', 'the', 'the', 'one', 'the', 'the', 'the', 'the', 'the', 'the', 'the', 'one', 'the', 'The', 'are', 'the', 'the', 'the', 'the', 'the', 'the', 'The', 'are', 'are']\n"
     ]
    }
   ],
   "source": [
    "pattern = r'\\b\\w{2}e\\b'\n",
    "words = re.findall(pattern, text)\n",
    "print(words)"
   ]
  },
  {
   "cell_type": "markdown",
   "metadata": {},
   "source": [
    "#### 7. Extract list of all words starting and ending with letter ‘b’."
   ]
  },
  {
   "cell_type": "code",
   "execution_count": 64,
   "metadata": {},
   "outputs": [
    {
     "name": "stdout",
     "output_type": "stream",
     "text": [
      "[]\n"
     ]
    }
   ],
   "source": [
    "pattern = r'\\b[bB]\\w*b\\b'\n",
    "words = re.findall(pattern, text)\n",
    "print(words)"
   ]
  },
  {
   "cell_type": "markdown",
   "metadata": {},
   "source": [
    "#### 8. Remove all the punctuation marks from the text."
   ]
  },
  {
   "cell_type": "code",
   "execution_count": 66,
   "metadata": {},
   "outputs": [
    {
     "name": "stdout",
     "output_type": "stream",
     "text": [
      "The outlook wasnt brilliant for the Mudville nine that day \n",
      "The score stood four to two with but one inning more to play\n",
      "And then when Cooney died at first and Barrows did the same\n",
      "A palllike silence fell upon the patrons of the game \n",
      "\n",
      "A straggling few got up to go in deep despair The rest\n",
      "Clung to that hope which springs eternal in the human breast\n",
      "They thought If only Casey could but get a whack at that\n",
      "Wed put up even money now with Casey at the bat \n",
      "\n",
      "But Flynn preceded Casey as did also Jimmy Blake\n",
      "And the former was a lulu while the latter was a cake\n",
      "So upon that stricken multitude grim melancholy sat\n",
      "For there seemed but little chance of Casey getting to the bat\n",
      "\n",
      "But Flynn let drive a single to the wonderment of all\n",
      "And Blake the much despised tore the cover off the ball\n",
      "And when the dust had lifted and men saw what had occurred\n",
      "There was Jimmy safe at second and Flynn ahugging third \n",
      "\n",
      "Then from five thousand throats and more there rose a lusty yell\n",
      "It rumbled through the valley it rattled in the dell\n",
      "It pounded on the mountain and recoiled upon the flat\n",
      "For Casey mighty Casey was advancing to the bat \n",
      "\n",
      "There was ease in Caseys manner as he stepped into his place\n",
      "There was pride in Caseys bearing and a smile lit Caseys face\n",
      "And when responding to the cheers he lightly doffed his hat\n",
      "No stranger in the crowd could doubt twas Casey at the bat \n",
      "\n",
      "Ten thousand eyes were on him as he rubbed his hands with dirt\n",
      "Five thousand tongues applauded when he wiped them on his shirt\n",
      "Then while the writhing pitcher ground the ball into his hip\n",
      "Defiance flashed in Caseys eye a sneer curled Caseys lip \n",
      "\n",
      "And now the leathercovered sphere came hurtling through the air\n",
      "And Casey stood awatching it in haughty grandeur there\n",
      "Close by the sturdy batsman the ball unheeded sped\n",
      "That aint my style said Casey Strike one the umpire said \n",
      "\n",
      "From the benches black with people there went up a muffled roar\n",
      "Like the beating of the stormwaves on a stern and distant shore\n",
      "Kill him Kill the umpire shouted some one on the stand\n",
      "And its likely theyd have killed him had not Casey raised his hand \n",
      "\n",
      "With a smile of Christian charity great Caseys visage shone\n",
      "He stilled the rising tumult he bade the game go on\n",
      "He signaled to the pitcher and once more the dun sphere flew\n",
      "But Casey still ignored it and the umpire said Strike two \n",
      "\n",
      "Fraud cried the maddened thousands and echo answered Fraud\n",
      "But one scornful look from Casey and the audience was awed\n",
      "They saw his face grow stern and cold they saw his muscles strain\n",
      "And they knew that Casey wouldnt let that ball go by again \n",
      "\n",
      "The sneer has fled from Caseys lip his teeth are clenched in hate\n",
      "He pounds with cruel violence his bat upon the plate\n",
      "And now the pitcher holds the ball and now he lets it go\n",
      "And now the air is shattered by the force of Caseys blow \n",
      "\n",
      "Oh somewhere in this favored land the sun is shining bright\n",
      "The band is playing somewhere and somewhere hearts are light\n",
      "And somewhere men are laughing and little children shout\n",
      "But there is no joy in Mudvillegreat Casey has struck out\n",
      "\n"
     ]
    }
   ],
   "source": [
    "pattern = r'[.,!?;\"\\'-]'\n",
    "new_text = re.sub(pattern, '', text)\n",
    "print(new_text)"
   ]
  },
  {
   "cell_type": "markdown",
   "metadata": {},
   "source": [
    "#### 9. Replace all words ending ‘n't’ to their full form ‘not’."
   ]
  },
  {
   "cell_type": "code",
   "execution_count": 68,
   "metadata": {},
   "outputs": [
    {
     "name": "stdout",
     "output_type": "stream",
     "text": [
      "The outlook not brilliant for the Mudville nine that day; \n",
      "The score stood four to two, with but one inning more to play,\n",
      "And then when Cooney died at first, and Barrows did the same,\n",
      "A pall-like silence fell upon the patrons of the game. \n",
      "\n",
      "A straggling few got up to go in deep despair. The rest\n",
      "Clung to that hope which springs eternal in the human breast;\n",
      "They thought, \"If only Casey could but get a whack at that--\n",
      "We'd put up even money now, with Casey at the bat.\" \n",
      "\n",
      "But Flynn preceded Casey, as did also Jimmy Blake,\n",
      "And the former was a lulu, while the latter was a cake;\n",
      "So upon that stricken multitude grim melancholy sat,\n",
      "For there seemed but little chance of Casey getting to the bat.\n",
      "\n",
      "But Flynn let drive a single, to the wonderment of all,\n",
      "And Blake, the much despised, tore the cover off the ball;\n",
      "And when the dust had lifted, and men saw what had occurred,\n",
      "There was Jimmy safe at second and Flynn a-hugging third. \n",
      "\n",
      "Then from five thousand throats and more there rose a lusty yell;\n",
      "It rumbled through the valley, it rattled in the dell;\n",
      "It pounded on the mountain and recoiled upon the flat,\n",
      "For Casey, mighty Casey, was advancing to the bat. \n",
      "\n",
      "There was ease in Casey's manner as he stepped into his place;\n",
      "There was pride in Casey's bearing and a smile lit Casey's face.\n",
      "And when, responding to the cheers, he lightly doffed his hat,\n",
      "No stranger in the crowd could doubt 'twas Casey at the bat. \n",
      "\n",
      "Ten thousand eyes were on him as he rubbed his hands with dirt;\n",
      "Five thousand tongues applauded when he wiped them on his shirt;\n",
      "Then while the writhing pitcher ground the ball into his hip,\n",
      "Defiance flashed in Casey's eye, a sneer curled Casey's lip. \n",
      "\n",
      "And now the leather-covered sphere came hurtling through the air,\n",
      "And Casey stood a-watching it in haughty grandeur there.\n",
      "Close by the sturdy batsman the ball unheeded sped--\n",
      "\"That not my style,\" said Casey. \"Strike one!\" the umpire said. \n",
      "\n",
      "From the benches, black with people, there went up a muffled roar,\n",
      "Like the beating of the storm-waves on a stern and distant shore;\n",
      "\"Kill him! Kill the umpire!\" shouted some one on the stand;\n",
      "And it's likely they'd have killed him had not Casey raised his hand. \n",
      "\n",
      "With a smile of Christian charity great Casey's visage shone;\n",
      "He stilled the rising tumult; he bade the game go on;\n",
      "He signaled to the pitcher, and once more the dun sphere flew;\n",
      "But Casey still ignored it, and the umpire said, \"Strike two!\" \n",
      "\n",
      "\"Fraud!\" cried the maddened thousands, and echo answered \"Fraud!\"\n",
      "But one scornful look from Casey and the audience was awed.\n",
      "They saw his face grow stern and cold, they saw his muscles strain,\n",
      "And they knew that Casey not let that ball go by again. \n",
      "\n",
      "The sneer has fled from Casey's lip, his teeth are clenched in hate;\n",
      "He pounds with cruel violence his bat upon the plate.\n",
      "And now the pitcher holds the ball, and now he lets it go.\n",
      "And now the air is shattered by the force of Casey's blow. \n",
      "\n",
      "Oh, somewhere in this favored land the sun is shining bright;\n",
      "The band is playing somewhere, and somewhere hearts are light,\n",
      "And somewhere men are laughing, and little children shout;\n",
      "But there is no joy in Mudville--great Casey has struck out\n",
      "\n"
     ]
    }
   ],
   "source": [
    "pattern = r'\\b\\w*n\\'t\\b'\n",
    "new_text = re.sub(pattern, 'not', text)\n",
    "print(new_text)"
   ]
  },
  {
   "cell_type": "markdown",
   "metadata": {},
   "source": [
    "#### 10. Replace all the new lines with a single space."
   ]
  },
  {
   "cell_type": "code",
   "execution_count": 69,
   "metadata": {},
   "outputs": [
    {
     "name": "stdout",
     "output_type": "stream",
     "text": [
      "The outlook wasn't brilliant for the Mudville nine that day;  The score stood four to two, with but one inning more to play, And then when Cooney died at first, and Barrows did the same, A pall-like silence fell upon the patrons of the game.   A straggling few got up to go in deep despair. The rest Clung to that hope which springs eternal in the human breast; They thought, \"If only Casey could but get a whack at that-- We'd put up even money now, with Casey at the bat.\"   But Flynn preceded Casey, as did also Jimmy Blake, And the former was a lulu, while the latter was a cake; So upon that stricken multitude grim melancholy sat, For there seemed but little chance of Casey getting to the bat.  But Flynn let drive a single, to the wonderment of all, And Blake, the much despised, tore the cover off the ball; And when the dust had lifted, and men saw what had occurred, There was Jimmy safe at second and Flynn a-hugging third.   Then from five thousand throats and more there rose a lusty yell; It rumbled through the valley, it rattled in the dell; It pounded on the mountain and recoiled upon the flat, For Casey, mighty Casey, was advancing to the bat.   There was ease in Casey's manner as he stepped into his place; There was pride in Casey's bearing and a smile lit Casey's face. And when, responding to the cheers, he lightly doffed his hat, No stranger in the crowd could doubt 'twas Casey at the bat.   Ten thousand eyes were on him as he rubbed his hands with dirt; Five thousand tongues applauded when he wiped them on his shirt; Then while the writhing pitcher ground the ball into his hip, Defiance flashed in Casey's eye, a sneer curled Casey's lip.   And now the leather-covered sphere came hurtling through the air, And Casey stood a-watching it in haughty grandeur there. Close by the sturdy batsman the ball unheeded sped-- \"That ain't my style,\" said Casey. \"Strike one!\" the umpire said.   From the benches, black with people, there went up a muffled roar, Like the beating of the storm-waves on a stern and distant shore; \"Kill him! Kill the umpire!\" shouted some one on the stand; And it's likely they'd have killed him had not Casey raised his hand.   With a smile of Christian charity great Casey's visage shone; He stilled the rising tumult; he bade the game go on; He signaled to the pitcher, and once more the dun sphere flew; But Casey still ignored it, and the umpire said, \"Strike two!\"   \"Fraud!\" cried the maddened thousands, and echo answered \"Fraud!\" But one scornful look from Casey and the audience was awed. They saw his face grow stern and cold, they saw his muscles strain, And they knew that Casey wouldn't let that ball go by again.   The sneer has fled from Casey's lip, his teeth are clenched in hate; He pounds with cruel violence his bat upon the plate. And now the pitcher holds the ball, and now he lets it go. And now the air is shattered by the force of Casey's blow.   Oh, somewhere in this favored land the sun is shining bright; The band is playing somewhere, and somewhere hearts are light, And somewhere men are laughing, and little children shout; But there is no joy in Mudville--great Casey has struck out \n"
     ]
    }
   ],
   "source": [
    "new_text = re.sub('\\n', ' ', text)\n",
    "print(new_text)"
   ]
  }
 ],
 "metadata": {
  "kernelspec": {
   "display_name": "Python 3",
   "language": "python",
   "name": "python3"
  },
  "language_info": {
   "codemirror_mode": {
    "name": "ipython",
    "version": 3
   },
   "file_extension": ".py",
   "mimetype": "text/x-python",
   "name": "python",
   "nbconvert_exporter": "python",
   "pygments_lexer": "ipython3",
   "version": "3.11.2"
  },
  "orig_nbformat": 4
 },
 "nbformat": 4,
 "nbformat_minor": 2
}
